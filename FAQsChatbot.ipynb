{
  "nbformat": 4,
  "nbformat_minor": 0,
  "metadata": {
    "colab": {
      "name": "Untitled5.ipynb",
      "provenance": [],
      "collapsed_sections": []
    },
    "kernelspec": {
      "name": "python3",
      "display_name": "Python 3"
    }
  },
  "cells": [
    {
      "cell_type": "code",
      "metadata": {
        "id": "Idh-4vd-k_Id",
        "colab_type": "code",
        "colab": {}
      },
      "source": [
        "from nltk.corpus import stopwords \n",
        "from nltk.tokenize import word_tokenize \n",
        "import pandas as pd\n",
        "df=pd.read_csv('faqskm.csv')"
      ],
      "execution_count": 0,
      "outputs": []
    },
    {
      "cell_type": "code",
      "metadata": {
        "id": "T0sU0GQml2aq",
        "colab_type": "code",
        "outputId": "446874c6-7ed7-47bd-82cd-b11ebcfdfc83",
        "colab": {
          "base_uri": "https://localhost:8080/",
          "height": 195
        }
      },
      "source": [
        "df.head()"
      ],
      "execution_count": 89,
      "outputs": [
        {
          "output_type": "execute_result",
          "data": {
            "text/html": [
              "<div>\n",
              "<style scoped>\n",
              "    .dataframe tbody tr th:only-of-type {\n",
              "        vertical-align: middle;\n",
              "    }\n",
              "\n",
              "    .dataframe tbody tr th {\n",
              "        vertical-align: top;\n",
              "    }\n",
              "\n",
              "    .dataframe thead th {\n",
              "        text-align: right;\n",
              "    }\n",
              "</style>\n",
              "<table border=\"1\" class=\"dataframe\">\n",
              "  <thead>\n",
              "    <tr style=\"text-align: right;\">\n",
              "      <th></th>\n",
              "      <th>Sr.No.</th>\n",
              "      <th>Question</th>\n",
              "      <th>Answer</th>\n",
              "      <th>Unnamed: 3</th>\n",
              "      <th>Unnamed: 4</th>\n",
              "      <th>Unnamed: 5</th>\n",
              "    </tr>\n",
              "  </thead>\n",
              "  <tbody>\n",
              "    <tr>\n",
              "      <th>0</th>\n",
              "      <td>1</td>\n",
              "      <td>I m not able to access my Bitrix24 account? A</td>\n",
              "      <td>Go to https://cloudcounselage24.bitrix24.com/...</td>\n",
              "      <td>NaN</td>\n",
              "      <td>NaN</td>\n",
              "      <td>NaN</td>\n",
              "    </tr>\n",
              "    <tr>\n",
              "      <th>1</th>\n",
              "      <td>2</td>\n",
              "      <td>What is the job profile? Will we be able to w...</td>\n",
              "      <td>Your job profile is 'Technology - Intern'; if...</td>\n",
              "      <td>NaN</td>\n",
              "      <td>NaN</td>\n",
              "      <td>NaN</td>\n",
              "    </tr>\n",
              "    <tr>\n",
              "      <th>2</th>\n",
              "      <td>3</td>\n",
              "      <td>How many workgroups will an intern be a part ...</td>\n",
              "      <td>Every intern should be a part of 2 workgroups...</td>\n",
              "      <td>NaN</td>\n",
              "      <td>NaN</td>\n",
              "      <td>NaN</td>\n",
              "    </tr>\n",
              "    <tr>\n",
              "      <th>3</th>\n",
              "      <td>4</td>\n",
              "      <td>Not able to access the LP1 page with my token...</td>\n",
              "      <td>Please watch the videos shared with the invit...</td>\n",
              "      <td>NaN</td>\n",
              "      <td>NaN</td>\n",
              "      <td>NaN</td>\n",
              "    </tr>\n",
              "    <tr>\n",
              "      <th>4</th>\n",
              "      <td>5</td>\n",
              "      <td>Login issues with training/ for every module ...</td>\n",
              "      <td>Yes, you need to register for every module of...</td>\n",
              "      <td>NaN</td>\n",
              "      <td>NaN</td>\n",
              "      <td>NaN</td>\n",
              "    </tr>\n",
              "  </tbody>\n",
              "</table>\n",
              "</div>"
            ],
            "text/plain": [
              "   Sr.No.  ... Unnamed: 5\n",
              "0       1  ...        NaN\n",
              "1       2  ...        NaN\n",
              "2       3  ...        NaN\n",
              "3       4  ...        NaN\n",
              "4       5  ...        NaN\n",
              "\n",
              "[5 rows x 6 columns]"
            ]
          },
          "metadata": {
            "tags": []
          },
          "execution_count": 89
        }
      ]
    },
    {
      "cell_type": "code",
      "metadata": {
        "id": "I1WtVV3Wl45B",
        "colab_type": "code",
        "outputId": "d9da493e-339e-4243-e761-10680ab270cf",
        "colab": {
          "base_uri": "https://localhost:8080/",
          "height": 1000
        }
      },
      "source": [
        "Q=df['Question']\n",
        "Q=Q.tolist()\n",
        "Q"
      ],
      "execution_count": 90,
      "outputs": [
        {
          "output_type": "execute_result",
          "data": {
            "text/plain": [
              "[' I m not able to access my Bitrix24 account? A',\n",
              " ' What is the job profile? Will we be able to work only in the tech we have chosen for the internship? A',\n",
              " ' How many workgroups will an intern be a part of?/ How many workgroups should I be in? A',\n",
              " ' Not able to access the LP1 page with my token/ When I put my token it redirects me to the home page/ Getting error while accessing the page- \"User Not Found”/Website Redirection Issue/Tokens not working. A',\n",
              " ' Login issues with training/ for every module of LP1/ LP2, do we have to register again for access to the content? A',\n",
              " ' I am applying my 2nd token that is the LP1 then it shows invalid user but the first token was accepted. What should I do?/ Tokens not working A',\n",
              " \" I did follow the instructions given in the video, but still, I'm not able to log in for the LP1 task A\",\n",
              " ' Do I need to pass with the certificate in training. A',\n",
              " ' I am not able to see my tasks.A',\n",
              " ' What do we do in the work report? A',\n",
              " ' I tried it 3-4 times and have to enter token each time I visit it. A',\n",
              " ' I just joined the group and I am not understanding what to do further. How do I start my internship? A',\n",
              " ' What do I do after completing the quiz? how to complete the entire lp1 A',\n",
              " ' Do I need to register every time I do different tasks of lp1? A',\n",
              " \" I have complete one training, I didn't find any options to continue my training. A\",\n",
              " ' I am not getting results of the training. A',\n",
              " ' Unable to access the quiz A',\n",
              " ' What to do after completing LP1/ LP2/ LP3? A',\n",
              " ' Which Browser I should use? A',\n",
              " ' Do we need to complete all the six steps within 14 hours as you mentioned that we have to complete all the 6 steps within 2 weeks so it becomes 14 hours? A',\n",
              " ' I had press finished button of LP1 task but want to resume the task, how to do that? A',\n",
              " ' The web pages on mobile are not showing properly. A',\n",
              " ' I have opted for a blockchain internship, can I also learn about AI and do an internship in both?  A',\n",
              " ' Can I switch my technology now? / I had enrolled for two technologies at the time of form-filling and got selected for the technology I’m not interested in. A',\n",
              " ' Can you help me by telling how can I get to know about my progress of LP 1 A',\n",
              " ' I am not able to view a page/ I am logged in the training and still the website asks me to login A',\n",
              " ' I am having trouble finding the workgroup ( no workgroup is visible',\n",
              " ' I am not added into my technology workgroup./ actually there are n no of tokens and every token I entered it is showing user no found or redirecting to the same page A',\n",
              " ' When does the LP1/ LP2/ LP3 begin dates and deadline/ end date? A',\n",
              " ' What happens in LP2? What kind of training can we expect? Is it a Basic/Advance level? A',\n",
              " ' What happens in LP3? What kind of training can we expect? Is it a Basic/Advance level? A',\n",
              " ' What to do after LP3? A',\n",
              " ' Can we skip any training if we are already clear with the basics? A',\n",
              " ' Is it ok to clock-out before an hour is completed if the tasks are completed? Do we need to clock-in and compulsorily complete 7 hours a week even if the tasks are completed? A',\n",
              " ' Resource links not working. What to do? Should we skip? A',\n",
              " ' What to do when our university exams start? A',\n",
              " ' Is it okay to mention this internship as ongoing for college records? A',\n",
              " ' Can we do another internship with IP? A',\n",
              " ' What to do after Live Projects? Are we getting an offer letter/Stipend? A',\n",
              " ' When will we get a joining letter?  A',\n",
              " ' When will we get an internship completion letter? A',\n",
              " ' What will be the projects in AI/ ML/ etc. technologies in LP3/ Live Projects?  A',\n",
              " ' Not able to see the task as not part of the IP workgroup.  A',\n",
              " ' Live Project/ LP3 has to be submitted individually or it will be a group project?  A',\n",
              " ' How can we check our weekly hours?  A',\n",
              " ' Is it necessary to attend LP1 for other domains as well if we want to take its training.  A',\n",
              " ' Why only this training for LP2? A',\n",
              " ' Could I have done this training from other websites/ resources? A',\n",
              " ' Can I do certification for the training provided in LP2?  A',\n",
              " ' The videos of LP2 are taking too much time to load. A',\n",
              " ' Are LP1/ LP2/ LP3 a part of the Live Project? A',\n",
              " ' Will these training be enough for us to complete the LP3 and Live Project.  A',\n",
              " ' How do I access my quiz? A',\n",
              " ' By when will we receive access to Bitrix24? A',\n",
              " ' Can my friends still apply for the Internship Program (IP',\n",
              " ' Is the induction online or offline? A',\n",
              " \" I am trying to complete social media tasks. I completed that day and clicked finish but it didn't show finished in the task menu. What should I do? A\",\n",
              " ' My Efficiency is 0% what should I do? A',\n",
              " ' Will you provide mentorship or doubt clearing sessions in this internship? A',\n",
              " ' Problem statements of the Live Project will be chosen by the intern or will be provided by Cloud Counselage? A',\n",
              " ' Can we be a part of your future development team?/ Can we be hired by Cloud Counselage after this internship?  A',\n",
              " ' Can we visit the office? How many times do we have to visit the office for this internship? A',\n",
              " ' Can we extend this internship?  A',\n",
              " ' If we are working on more than one technology, are those technologies added to the certificate?  A',\n",
              " ' Will Live Projects have only one technology or a mixture of technologies? A',\n",
              " ' I forgot to clock in for a few days, will this affect my internship? A',\n",
              " ' Will I get LP3 and Live project of technology other than what I am selected for? A',\n",
              " ' I have not been added to the technology I preferred to work on?  A',\n",
              " ' What are the company policies for IP interns? A',\n",
              " ' I have not got the acknowledgment from you regarding the weekly report. A',\n",
              " ' In my work time I can see one exclamation mark?/ What does the remaining time mean? A',\n",
              " ' I could not attend the induction last time, can I get an online induction again?/ I want some points said in the introduction, where can I get them. A',\n",
              " ' Can I just finish the task that you have just uploaded as I have attended the live induction session on 22nd of march A',\n",
              " ' I have got another attachment called ‘noname’ or ‘win.dat’ with my Appointment letter, what should I do about it? Will it cause any harm? A',\n",
              " ' Where should we share our hacker rank id/ where should we share the link/ anything relate to LP3 assignment submission? A',\n",
              " ' When will my review on social media update task be done? A',\n",
              " ' Is it necessary to clock-in if I am done with my tasks? A',\n",
              " ' Can we be online after 1 hr in a day? A',\n",
              " '  I am stuck in LP3/ Live project with a technical issue, Is there any technical person who can help in this? A',\n",
              " \" One of my friends had applied for the IP but she didn't receive any further updates. A\",\n",
              " ' I have a query with respect to LP3, what should I do and whom should I ask? A',\n",
              " \" I didn't get my appointment letter yet. A\",\n",
              " \" For some reason, I'm unable to download my LP3 assignment problem statement document shared on LP3 page, is there any other way I can get it? A\",\n",
              " ' If my technology is IOT/ AI/ ML/ etc., do I still have to complete the mandatory training for LP1 \"Cloud Computing\"? A',\n",
              " 'When will the step 3 of the internship program start? A',\n",
              " ' I  am getting an error:: Exception: SQLSTATE[HY000]: General error: 1 no such table: layout, what should I do? A']"
            ]
          },
          "metadata": {
            "tags": []
          },
          "execution_count": 90
        }
      ]
    },
    {
      "cell_type": "code",
      "metadata": {
        "id": "xLSCcU779hoC",
        "colab_type": "code",
        "colab": {
          "base_uri": "https://localhost:8080/",
          "height": 34
        },
        "outputId": "75e6715b-8b46-49c6-b5c4-8c2f4a20f4d9"
      },
      "source": [
        "Q[0]"
      ],
      "execution_count": 91,
      "outputs": [
        {
          "output_type": "execute_result",
          "data": {
            "text/plain": [
              "' I m not able to access my Bitrix24 account? A'"
            ]
          },
          "metadata": {
            "tags": []
          },
          "execution_count": 91
        }
      ]
    },
    {
      "cell_type": "code",
      "metadata": {
        "id": "cV3KnKIsmOBt",
        "colab_type": "code",
        "colab": {
          "base_uri": "https://localhost:8080/",
          "height": 1000
        },
        "outputId": "cde9c6f2-d460-460d-ff1b-cedbeb57a305"
      },
      "source": [
        "A=df['Answer']\n",
        "A=A.tolist()\n",
        "A"
      ],
      "execution_count": 92,
      "outputs": [
        {
          "output_type": "execute_result",
          "data": {
            "text/plain": [
              "[' Go to https://cloudcounselage24.bitrix24.com/ On the Login page, In the, ‘Enter the phone number or email’, type in your email id that you have registered with Cloud Counselage and Click ‘Forgot Password’. In case the problem persists, please write a mail to hrsupport@cloudcounselage.in',\n",
              " \" Your job profile is 'Technology - Intern'; if you're in cloud computing technology to update in your LinkedIn or resume, you can write as 'Cloud Computing - Intern'. Yes, you'll only work in the technology you're selected for but you can take the training of other technologies.\",\n",
              " ' Every intern should be a part of 2 workgroups. 1. \"202003-IP\"  -- This is a general workgroup. Everyone who is enrolled in IP should be a part of this workgroup. 2. \"202003-IP-Technology\"  -- This is a technology-specific workgroup. You\\'ll be added to the technology you had enrolled for. For example \"202003-IP-Python\" for students who enrolled for python. If anyone has not been added to any of these workgroups, kindly message \"Cloud Counselage HR \" regarding the same over bitrix24 platform.',\n",
              " ' Please watch the videos shared with the invite and you should not face any problems in accessing the training. Please follow the protocol shown in the videos.',\n",
              " \" Yes, you need to register for every module of training. Some of you are facing login issues, we have kept the training visible without login. Even then, to post a comment and give a quiz you'll have to login. In case you face difficulty to do so, please try to perform your quiz or post a comment by using a different browser or incognito mode.\",\n",
              " ' For each training of LP1, there are different tokens. Please read the tasks or watch the videos again meticulously. Try accessing it in incognito mode.',\n",
              " \" Ensure you're using the right token\",\n",
              " ' No, but please ensure you complete the training.',\n",
              " ' Please remove the default \"In Progress\" from your filter of the task section and try.',\n",
              " ' As mentioned in the video, please write what you have done this week and request approval from your supervisor by clicking on \"send to supervisor\".',\n",
              " \" We understand that it sometimes becomes tedious to access the training and we highly appreciate your support in making the training possible. We only do this for security reasons and we're trying to find a way to minimise the token use. For now, please note that in LP1 there are 3 types tokens: 1. One for each technology, you're a part of. 2. The lp1 home page. 3. The 6 tokens (one for each step\",\n",
              " ' Please go through the mail from which you have accepted the invite and check the task section as well.',\n",
              " ' There are tokens for each training in the task, if this learning path is done, please wait for the next learning path to begin and then please try to finish it. If you are done with LP3 please wait for Live Projects to begin.',\n",
              " ' There are codes in the LP1 assignment, and each time you have to register also, please check your task description.',\n",
              " ' Go back to the technology Page. Enter the respective tokens and then work. follow the same process every time.',\n",
              " \" They are just for your practice and not for our record, so you don't need the results of LP1 and LP2 training.\",\n",
              " ' Please retry after some time in an incognito window',\n",
              " ' Mark your task as finished and wait for the next instructions.',\n",
              " ' Google Chrome is recommended.',\n",
              " \" It's preferred if you complete the LP1 training in 2 weeks but not mandatory. LP1, LP2, and LP3 are expected to be completed before the live projects start in July; but that doesn't mean you should give anything less than 1 hour a day or 7 hours a week towards the learning paths (LP\",\n",
              " \" You can go back to that task and then click on 'More' and then 'resume' to restart that task.\",\n",
              " ' They are purposefully only configured for Desktops/ Laptops. In an emergency, you can use the \"show as desktop\" mode of your browser.',\n",
              " ' You can learn both the technologies using Learning Path 2 (LP2',\n",
              " ' You cannot switch the technology currently. You have to continue with the one you are selected for. In the case of multiple form entries, you just got selected for one of them; the first one that you entered. You cannot make a switch right now.',\n",
              " ' There is no metric to score your progress in any learning paths as it will be at a different pace for every individual.',\n",
              " \" This could be because of some issue in the cookies or extension in your browser. Please try again with a different browser or open the tab with incognito mode. Also, you don't need to record your results, the quizzes are only for your knowledge check and not a metric to score you.\",\n",
              " ' A',\n",
              " ' Please follow the instructions given in the videos or the one in the Bitrix24 mail (these are the same videos share in the task',\n",
              " ' The dates to begin the learning paths (LP',\n",
              " \" The main focus of LP2 is to provide you with a basic foundation of the technology you're interested in. The training is also handpicked in such a way that they enable you to work on LP3 assignments which interim gives you the beginning to start your study for the selected technology and in no terms is the only/ final training you should look into. Please keep learning after your LP2 is complete, that is the only way to grow in your technology of choice.\",\n",
              " ' LP3 will be assignment based and its execution and content vary from technology to technology. This assignment will be like a mini-project for all interns in a particular technology which will be verified by Cloud Counselage Project Managers.',\n",
              " \" You'll be given preparatory leave (PL\",\n",
              " ' No, these pieces of training will cover basics and there is no harm in brushing up your skills before you start with the assignments later.',\n",
              " ' If the tasks are completed, there is no need to clock-in and clock-out unnecessarily for hours. However, you should keep a track of all the updates of the internship being posted on the groups.',\n",
              " \" Please do not skip any piece of training, in case you're not able to access any link please message to Cloud Counselage HR and drop an email to hrsupport@cloudcounselage.in regarding the same.\",\n",
              " ' We have provided our interns with preparatory leave from the exam season, nevertheless, you are free to work on your LP3 assignment, but we suggest to concentrate on your exams first.',\n",
              " \" Yes, we'll provide every intern a joining letter as soon as all interns are inducted. \",\n",
              " ' Yes, you can do another internship outside of Cloud Counselage but please ensure to provide 1 hour a day or 7 hours a week for IP.',\n",
              " \" Submit your project and once it's reviewed as successful, collect your internship letter. Your internship is complete after this. There is no stipend for live projects. If your work is sublime and we have a vacancy in the position you're interested in, you may be offered a chance for interviews and can get an offer letter from Cloud Counselage Pvt. Ltd.\",\n",
              " ' Joining letter to all the interns will be provided on or before the 31st of March 2020.',\n",
              " ' This is a three (3',\n",
              " ' Projects in LP3 and Live Projects will be relevant to your training and ongoing projects in Cloud Counselage. The actual problem statements will only be given when the LP3/ Live Project phase is in progress to keep the interns focused on LP1/ LP2.',\n",
              " ' Please message ‘Cloud Counselage HR’ in Bitrix24 ',\n",
              " ' All the LP3/  Live Projects are on an individual scale.',\n",
              " \" In the menu select 'time and reports' ->worktime and then you could see your worktime or click on this link once you’re logged in to Bitrix24; https://cloudcounselage24.bitrix24.com/timeman/timeman.php\",\n",
              " ' LP1 training is common across all the technologies',\n",
              " ' They are our training partners and we have handpicked this training to cover a certain topic for you. These training cover from the very basic to intermediate level and is the perfect medium for you to have a starting point.',\n",
              " ' Yes, you could have but the reason to have these videos is to keep an enclosed environment for you to watch these tutorials without distractions with quizzes and forums for you to discuss in. As mentioned earlier, our main aim is to provide you with a starting point and baseline for the technology of your choice.',\n",
              " \" Yes, Cloud Counselage has purposefully partnered with Edureka so as to enable our interns to get the advantage of the corporate benefits at 'no profit no loss' basis for Cloud Counselage, that we receive from the partnership. Being our interns, you can get huge discounts on the certifications you choose to enrol for through Cloud Counselage and Edureka. In case you want to know more about the discounts offered, please reach out to ‘Cloud Counselage HR’ or write to hrsupport@cloudcounselage.in.\",\n",
              " \" We have uploaded the videos of the highest quality and best resolution which has resulted in some videos being over 1 GB as they are of hours in duration. To experience these high definition videos we request you to wait at least 5 minutes or more; depending on your computer's RAM and internet connection.\",\n",
              " ' LP1/ LP2/ LP3 is your preparation for the Live Project. All the phases LP1/ LP2/ LP3/ Live Project are a part of this internship.',\n",
              " ' The set of training is not exhaustive and you are required to keep learning about the technology on your own to excel in your Live Project.',\n",
              " ' As mentioned in the video: -Step1: Go to lp1 moduleStep2: Select moduleStep3: Put token (it will direct you to the home screen if the token is correct',\n",
              " ' If you have submitted the ‘New Joinee Form’ after the 1st of March, please wait till the 31st of March to receive your access.',\n",
              " ' - Maharashtra? Can we create awareness about this internship? Can we be the representative for Cloud Counselage in our college? A',\n",
              " ' As a precautionary measure to safeguard our intern’s health, we have decided to conduct all the inductions online.',\n",
              " \" Our team will verify and then only your task shall be accepted as completed. Please wait till the verification's complete.\",\n",
              " ' Ensure that you have clicked ‘Start’ when you resume a task, the ‘Finish’ button gets active only after the task is started. Once you complete the task you can then click on ‘Finish’ and then the efficiency is updated in the system. However, please raise this issue with the Cloud Counselage HR, as they will look at it on a case to case basis.',\n",
              " ' As this is an internship you’re expected to do self-learning, mentorship is not part of an internship. However, we have created forums to resolve your doubts in the form of workgroups. As an intern ensure that you are part of relevant workgroups, i.e. ‘202003 - IP’ and your resp. Technology workgroup. In case, you are not a part of these workgroups, please reach out to ‘Cloud Counselage HR’ on Bitrix24 Chat.',\n",
              " ' Live Projects will be provided by Cloud Counselage as these are the ongoing projects of Cloud Counselage and your opportunity to create an impact in the organisation.',\n",
              " ' All our current interns if performing well in our internship programs can be offered an opportunity to interview for various positions in Cloud Counsealge. Many of our now full-time employees were interns in Cloud Counselage.',\n",
              " ' As this is an online internship you do not need to visit the offices in the duration of this internship. You will be requested to visit the Vikhroli office only once; i.e. on your internship convocation day which will be in July 2020. Nevertheless, you can visit our offices with an appointment.',\n",
              " ' Yes, you can extend your internship by being part of our other online programs like, ‘Online Career Program’.',\n",
              " ' You are not restricted from doing the training of other technologies but you will only be given an internship certificate of the technology you’re selected for.',\n",
              " ' Live Projects will have only your part of technology even if there are multiple technologies that are a part of the project, you will be working only on the part that covers your technology.',\n",
              " ' This could have an adverse effect on your internship, please contact Cloud Counsealge HR and provide a genuine reason to miss clock in/ clock out. Also, please start performing your clock in/ clock out now.',\n",
              " ' No, you will receive LP3 and Live Projects of your respective technology.',\n",
              " ' We do understand that you might be interested in other technologies and are eager to learn more, but we have prescribed the technologies based on your first inputs and cannot change your base technology. Nevertheless, you do have the opportunity to go through the training of all the technologies.',\n",
              " ' The company policies will be published on www.cloudcounselage.co.in/ippolicies',\n",
              " ' Once you submit your weekly report, your supervisor and the HR team shall take the cognizance. They would reach out to you in case of discrepancies, so you need not worry about the confirmation.',\n",
              " \" It is showing the remaining time because it's configured for 8 working hours per day. Our interns need to only make sure that they are online for 1 hour per day or 7 hours a week.\",\n",
              " ' We have created a separate page with a pre-recorded induction, please visit it; https://www.cloudcounselage.co.in/ipinduction',\n",
              " ' Yes. Although, you can always revisit the induction so that you can review what has been said in it.',\n",
              " ' We have observed that there is such an attachment for a few mailing service providers like Gmail and yahoo, please ignore this attachment. It won’t cause any harm to your system.',\n",
              " ' For now, please concentrate on completing the task. We will ask all the interns to submit their work in the first week of June. Ensure you make it up to the mark till then as there would be no extension given that time.',\n",
              " ' We will review this task in May 2020.',\n",
              " ' Yes, it is mandatory to do, we are trying to include some more tasks due to the current scenarios, but adherence to clock-in/ clock-out policy is utterly important.',\n",
              " ' Yes, you can be.',\n",
              " ' As mentorship/ hand-holding is not part of an internship by definition, we would not provide any technical help. Nevertheless, feel free to ask your doubt in your respective workgroup chat/ in the community or Google it :',\n",
              " ' Please ask them to send a mail to hrsupport@cloudcounselage.in and wait till 30th April 2020 for a reply.',\n",
              " \" As mentioned in the '202003-IP' workgroup, please ask all queries related to LP3 in your technology workgroup only and tag Jayanth G S  in your message.\",\n",
              " \" If you had not attended the live induction and have registered in the pre-recorded session after 4 PM, 31st March. Then you'll get your joining letter by 30th April 2020. If you have otherwise, please a mail to hrsupport@cloudcounselage.in or ping 'Cloud Counselage HR' in B24.\",\n",
              " ' Since some of you are not able to download, please find the same document in your technology drive in the folder LP3. We have made an announcement in your respective technology workgroup as well, please check.',\n",
              " \" Yes, you'll need to complete the mandatory training as cloud computing is fundamental to many technologies and this additional knowledge will help you in your career.\",\n",
              " \"Hope you and your family are in the best of health given the current scenario and you are making the most of your time through the 'Internship Program' by Cloud Counselage.According to the schedule of this internship program, some of you must have completed steps 1 and 2 of your internship and some of you must be in the process of completing step 2.Please note that as per the program schedule (https://www.cloudcounselage.com/ipmaharashtra/\",\n",
              " ' This is due to many webpages opened, please close your browser and try again or you can open a new incognito tab and try again.']"
            ]
          },
          "metadata": {
            "tags": []
          },
          "execution_count": 92
        }
      ]
    },
    {
      "cell_type": "code",
      "metadata": {
        "id": "14N_tgDj8jA0",
        "colab_type": "code",
        "colab": {}
      },
      "source": [
        "list=[]"
      ],
      "execution_count": 0,
      "outputs": []
    },
    {
      "cell_type": "code",
      "metadata": {
        "id": "ywvp1jH66jhz",
        "colab_type": "code",
        "colab": {
          "base_uri": "https://localhost:8080/",
          "height": 1000
        },
        "outputId": "f8b7ef11-5ba3-4356-d264-28ec96c88f63"
      },
      "source": [
        "X=input()\n",
        "k=0\n",
        "for i in Q:\n",
        "  Y=Q[k]\n",
        "  k+=1\n",
        "  X_list = word_tokenize(X)  \n",
        "  Y_list = word_tokenize(Y) \n",
        "\n",
        "  sw = stopwords.words('english')  \n",
        "  l1 =[];l2 =[] \n",
        "\n",
        "  X_set = {w for w in X_list if not w in sw}  \n",
        "  Y_set = {w for w in Y_list if not w in sw} \n",
        "\n",
        "  rvector = X_set.union(Y_set)  \n",
        "  for w in rvector: \n",
        "    if w in X_set: l1.append(1) # create a vector \n",
        "    else: l1.append(0) \n",
        "    if w in Y_set: l2.append(1) \n",
        "    else: l2.append(0) \n",
        "  c = 0\n",
        "\n",
        "  for i in range(len(rvector)): \n",
        "        c+= l1[i]*l2[i] \n",
        "  cosine = c / float((sum(l1)*sum(l2))**0.5) \n",
        "  \n",
        "  list.append(cosine)\n",
        "\n",
        "\n",
        "list\n",
        "\n",
        "\n"
      ],
      "execution_count": 94,
      "outputs": [
        {
          "output_type": "stream",
          "text": [
            "Not able to access the LP1 page with my token/ When I put my token it redirects me to the home page/ Getting error while accessing the page- \"User Not Found”/Website Redirection Issue/Tokens not working.\n"
          ],
          "name": "stdout"
        },
        {
          "output_type": "execute_result",
          "data": {
            "text/plain": [
              "[0.22237479499833035,\n",
              " 0.05913123959890826,\n",
              " 0.06537204504606134,\n",
              " 0.9813067629253164,\n",
              " 0.05439282932204212,\n",
              " 0.23782574707724702,\n",
              " 0.16317848796612636,\n",
              " 0.1386750490563073,\n",
              " 0.19611613513818404,\n",
              " 0.0,\n",
              " 0.1860521018838127,\n",
              " 0.12403473458920847,\n",
              " 0.06537204504606134,\n",
              " 0.05913123959890826,\n",
              " 0.11826247919781652,\n",
              " 0.16012815380508713,\n",
              " 0.09805806756909202,\n",
              " 0.0,\n",
              " 0.08006407690254357,\n",
              " 0.0,\n",
              " 0.11826247919781652,\n",
              " 0.06933752452815364,\n",
              " 0.062017367294604234,\n",
              " 0.09513029883089881,\n",
              " 0.062017367294604234,\n",
              " 0.17739371879672478,\n",
              " 0.08006407690254357,\n",
              " 0.14708710135363803,\n",
              " 0.05913123959890826,\n",
              " 0.0,\n",
              " 0.0,\n",
              " 0.0,\n",
              " 0.0,\n",
              " 0.0,\n",
              " 0.13074409009212268,\n",
              " 0.0,\n",
              " 0.0,\n",
              " 0.0,\n",
              " 0.0,\n",
              " 0.08006407690254357,\n",
              " 0.07412493166611012,\n",
              " 0.05661385170722978,\n",
              " 0.19611613513818402,\n",
              " 0.0,\n",
              " 0.0,\n",
              " 0.11826247919781652,\n",
              " 0.0,\n",
              " 0.06933752452815364,\n",
              " 0.06933752452815364,\n",
              " 0.06537204504606134,\n",
              " 0.0,\n",
              " 0.062017367294604234,\n",
              " 0.16012815380508713,\n",
              " 0.08006407690254357,\n",
              " 0.0,\n",
              " 0.0,\n",
              " 0.0899842541331695,\n",
              " 0.07412493166611012,\n",
              " 0.0,\n",
              " 0.0,\n",
              " 0.0,\n",
              " 0.0,\n",
              " 0.0,\n",
              " 0.062017367294604234,\n",
              " 0.0,\n",
              " 0.06537204504606134,\n",
              " 0.062017367294604234,\n",
              " 0.07412493166611012,\n",
              " 0.0,\n",
              " 0.1386750490563073,\n",
              " 0.052414241836095915,\n",
              " 0.09513029883089881,\n",
              " 0.05661385170722978,\n",
              " 0.047565149415449405,\n",
              " 0.0,\n",
              " 0.06537204504606134,\n",
              " 0.06933752452815364,\n",
              " 0.0,\n",
              " 0.05439282932204212,\n",
              " 0.06537204504606134,\n",
              " 0.06933752452815364,\n",
              " 0.1386750490563073,\n",
              " 0.09245003270420485,\n",
              " 0.13497638119975425,\n",
              " 0.06933752452815364,\n",
              " 0.09805806756909202]"
            ]
          },
          "metadata": {
            "tags": []
          },
          "execution_count": 94
        }
      ]
    },
    {
      "cell_type": "code",
      "metadata": {
        "id": "M6Taqr5EBlJI",
        "colab_type": "code",
        "colab": {
          "base_uri": "https://localhost:8080/",
          "height": 1000
        },
        "outputId": "f980e0a2-689d-4b0c-a1d4-36869e55d9f1"
      },
      "source": [
        "d={}\n",
        "k=0\n",
        "for i in list:\n",
        "  d[k]=list[k]\n",
        "  k+=1\n",
        "d"
      ],
      "execution_count": 95,
      "outputs": [
        {
          "output_type": "execute_result",
          "data": {
            "text/plain": [
              "{0: 0.22237479499833035,\n",
              " 1: 0.05913123959890826,\n",
              " 2: 0.06537204504606134,\n",
              " 3: 0.9813067629253164,\n",
              " 4: 0.05439282932204212,\n",
              " 5: 0.23782574707724702,\n",
              " 6: 0.16317848796612636,\n",
              " 7: 0.1386750490563073,\n",
              " 8: 0.19611613513818404,\n",
              " 9: 0.0,\n",
              " 10: 0.1860521018838127,\n",
              " 11: 0.12403473458920847,\n",
              " 12: 0.06537204504606134,\n",
              " 13: 0.05913123959890826,\n",
              " 14: 0.11826247919781652,\n",
              " 15: 0.16012815380508713,\n",
              " 16: 0.09805806756909202,\n",
              " 17: 0.0,\n",
              " 18: 0.08006407690254357,\n",
              " 19: 0.0,\n",
              " 20: 0.11826247919781652,\n",
              " 21: 0.06933752452815364,\n",
              " 22: 0.062017367294604234,\n",
              " 23: 0.09513029883089881,\n",
              " 24: 0.062017367294604234,\n",
              " 25: 0.17739371879672478,\n",
              " 26: 0.08006407690254357,\n",
              " 27: 0.14708710135363803,\n",
              " 28: 0.05913123959890826,\n",
              " 29: 0.0,\n",
              " 30: 0.0,\n",
              " 31: 0.0,\n",
              " 32: 0.0,\n",
              " 33: 0.0,\n",
              " 34: 0.13074409009212268,\n",
              " 35: 0.0,\n",
              " 36: 0.0,\n",
              " 37: 0.0,\n",
              " 38: 0.0,\n",
              " 39: 0.08006407690254357,\n",
              " 40: 0.07412493166611012,\n",
              " 41: 0.05661385170722978,\n",
              " 42: 0.19611613513818402,\n",
              " 43: 0.0,\n",
              " 44: 0.0,\n",
              " 45: 0.11826247919781652,\n",
              " 46: 0.0,\n",
              " 47: 0.06933752452815364,\n",
              " 48: 0.06933752452815364,\n",
              " 49: 0.06537204504606134,\n",
              " 50: 0.0,\n",
              " 51: 0.062017367294604234,\n",
              " 52: 0.16012815380508713,\n",
              " 53: 0.08006407690254357,\n",
              " 54: 0.0,\n",
              " 55: 0.0,\n",
              " 56: 0.0899842541331695,\n",
              " 57: 0.07412493166611012,\n",
              " 58: 0.0,\n",
              " 59: 0.0,\n",
              " 60: 0.0,\n",
              " 61: 0.0,\n",
              " 62: 0.0,\n",
              " 63: 0.062017367294604234,\n",
              " 64: 0.0,\n",
              " 65: 0.06537204504606134,\n",
              " 66: 0.062017367294604234,\n",
              " 67: 0.07412493166611012,\n",
              " 68: 0.0,\n",
              " 69: 0.1386750490563073,\n",
              " 70: 0.052414241836095915,\n",
              " 71: 0.09513029883089881,\n",
              " 72: 0.05661385170722978,\n",
              " 73: 0.047565149415449405,\n",
              " 74: 0.0,\n",
              " 75: 0.06537204504606134,\n",
              " 76: 0.06933752452815364,\n",
              " 77: 0.0,\n",
              " 78: 0.05439282932204212,\n",
              " 79: 0.06537204504606134,\n",
              " 80: 0.06933752452815364,\n",
              " 81: 0.1386750490563073,\n",
              " 82: 0.09245003270420485,\n",
              " 83: 0.13497638119975425,\n",
              " 84: 0.06933752452815364,\n",
              " 85: 0.09805806756909202}"
            ]
          },
          "metadata": {
            "tags": []
          },
          "execution_count": 95
        }
      ]
    },
    {
      "cell_type": "code",
      "metadata": {
        "id": "2DLSodfrFnnT",
        "colab_type": "code",
        "colab": {
          "base_uri": "https://localhost:8080/",
          "height": 1000
        },
        "outputId": "8cc2f287-2619-4b98-bf4f-7c001b9db8e7"
      },
      "source": [
        "import operator\n",
        "sorted_d = sorted(d.items(), key=operator.itemgetter(1),reverse=True)\n",
        "sorted_d"
      ],
      "execution_count": 96,
      "outputs": [
        {
          "output_type": "execute_result",
          "data": {
            "text/plain": [
              "[(3, 0.9813067629253164),\n",
              " (5, 0.23782574707724702),\n",
              " (0, 0.22237479499833035),\n",
              " (8, 0.19611613513818404),\n",
              " (42, 0.19611613513818402),\n",
              " (10, 0.1860521018838127),\n",
              " (25, 0.17739371879672478),\n",
              " (6, 0.16317848796612636),\n",
              " (15, 0.16012815380508713),\n",
              " (52, 0.16012815380508713),\n",
              " (27, 0.14708710135363803),\n",
              " (7, 0.1386750490563073),\n",
              " (69, 0.1386750490563073),\n",
              " (81, 0.1386750490563073),\n",
              " (83, 0.13497638119975425),\n",
              " (34, 0.13074409009212268),\n",
              " (11, 0.12403473458920847),\n",
              " (14, 0.11826247919781652),\n",
              " (20, 0.11826247919781652),\n",
              " (45, 0.11826247919781652),\n",
              " (16, 0.09805806756909202),\n",
              " (85, 0.09805806756909202),\n",
              " (23, 0.09513029883089881),\n",
              " (71, 0.09513029883089881),\n",
              " (82, 0.09245003270420485),\n",
              " (56, 0.0899842541331695),\n",
              " (18, 0.08006407690254357),\n",
              " (26, 0.08006407690254357),\n",
              " (39, 0.08006407690254357),\n",
              " (53, 0.08006407690254357),\n",
              " (40, 0.07412493166611012),\n",
              " (57, 0.07412493166611012),\n",
              " (67, 0.07412493166611012),\n",
              " (21, 0.06933752452815364),\n",
              " (47, 0.06933752452815364),\n",
              " (48, 0.06933752452815364),\n",
              " (76, 0.06933752452815364),\n",
              " (80, 0.06933752452815364),\n",
              " (84, 0.06933752452815364),\n",
              " (2, 0.06537204504606134),\n",
              " (12, 0.06537204504606134),\n",
              " (49, 0.06537204504606134),\n",
              " (65, 0.06537204504606134),\n",
              " (75, 0.06537204504606134),\n",
              " (79, 0.06537204504606134),\n",
              " (22, 0.062017367294604234),\n",
              " (24, 0.062017367294604234),\n",
              " (51, 0.062017367294604234),\n",
              " (63, 0.062017367294604234),\n",
              " (66, 0.062017367294604234),\n",
              " (1, 0.05913123959890826),\n",
              " (13, 0.05913123959890826),\n",
              " (28, 0.05913123959890826),\n",
              " (41, 0.05661385170722978),\n",
              " (72, 0.05661385170722978),\n",
              " (4, 0.05439282932204212),\n",
              " (78, 0.05439282932204212),\n",
              " (70, 0.052414241836095915),\n",
              " (73, 0.047565149415449405),\n",
              " (9, 0.0),\n",
              " (17, 0.0),\n",
              " (19, 0.0),\n",
              " (29, 0.0),\n",
              " (30, 0.0),\n",
              " (31, 0.0),\n",
              " (32, 0.0),\n",
              " (33, 0.0),\n",
              " (35, 0.0),\n",
              " (36, 0.0),\n",
              " (37, 0.0),\n",
              " (38, 0.0),\n",
              " (43, 0.0),\n",
              " (44, 0.0),\n",
              " (46, 0.0),\n",
              " (50, 0.0),\n",
              " (54, 0.0),\n",
              " (55, 0.0),\n",
              " (58, 0.0),\n",
              " (59, 0.0),\n",
              " (60, 0.0),\n",
              " (61, 0.0),\n",
              " (62, 0.0),\n",
              " (64, 0.0),\n",
              " (68, 0.0),\n",
              " (74, 0.0),\n",
              " (77, 0.0)]"
            ]
          },
          "metadata": {
            "tags": []
          },
          "execution_count": 96
        }
      ]
    },
    {
      "cell_type": "code",
      "metadata": {
        "id": "2VtV2Y0XJ-Le",
        "colab_type": "code",
        "colab": {
          "base_uri": "https://localhost:8080/",
          "height": 54
        },
        "outputId": "b5e1b682-6440-404a-8768-2bb56547797f"
      },
      "source": [
        "m=sorted_d[0][0]\n",
        "A[m]"
      ],
      "execution_count": 97,
      "outputs": [
        {
          "output_type": "execute_result",
          "data": {
            "text/plain": [
              "' Please watch the videos shared with the invite and you should not face any problems in accessing the training. Please follow the protocol shown in the videos.'"
            ]
          },
          "metadata": {
            "tags": []
          },
          "execution_count": 97
        }
      ]
    }
  ]
}